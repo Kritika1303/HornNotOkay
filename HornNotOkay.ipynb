{
  "nbformat": 4,
  "nbformat_minor": 0,
  "metadata": {
    "colab": {
      "provenance": [],
      "authorship_tag": "ABX9TyNn4P4Dy50K5lmhkhRdnEkW"
    },
    "kernelspec": {
      "name": "python3",
      "display_name": "Python 3"
    },
    "language_info": {
      "name": "python"
    }
  },
  "cells": [
    {
      "cell_type": "code",
      "execution_count": null,
      "metadata": {
        "id": "bFju7FQD8A2u"
      },
      "outputs": [],
      "source": [
        "import sounddevice as sd\n",
        "import numpy as np\n",
        "import time\n",
        "\n",
        "# Define recording parameters\n",
        "fs = 44100  # Sample rate\n",
        "duration = 0.5  # Recording duration in seconds\n",
        "channels = 1\n",
        "\n",
        "# start recording\n",
        "recording = sd.rec(int(fs * duration), samplerate=fs, channels=channels)\n",
        "\n",
        "# record audio in a loop\n",
        "t_end = time.time() + 10\n",
        "max_decibel = 0\n",
        "sum = 0\n",
        "i = 0\n",
        "\n",
        "while time.time() < t_end:\n",
        "    recording = sd.rec(int(fs * duration), samplerate=fs, channels=channels)\n",
        "    sd.wait(0.1)\n",
        "    # Calculate RMS of audio\n",
        "    rms = np.sqrt(np.mean(recording**2))\n",
        "    # Calculate noise pollution level in decibels using a reference SPL of 20 micro pascals\n",
        "    noise_level = 20 * np.log10(rms / 2e-5)\n",
        "    # check if noise level is negative\n",
        "    if noise_level < 0:\n",
        "        noise_level = 0\n",
        "    print(\"Noise pollution level: {:.2f} dB\".format(noise_level))\n",
        "    max_decibel = max(max_decibel,noise_level)\n",
        "    sum += noise_level\n",
        "    i += 1\n",
        "\n",
        "print(\"Maximum Noise pollution level: {:.2f} dB\".format(max_decibel))\n",
        "print(\"Average Noise pollution level: {:.2f} dB\".format(sum/i))"
      ]
    }
  ]
}